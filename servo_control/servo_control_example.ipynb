{
 "cells": [
  {
   "cell_type": "code",
   "execution_count": null,
   "metadata": {},
   "outputs": [],
   "source": [
    "# Initialise communicaiton and configuration setup.\n",
    "\n",
    "from servo_control import servo_control\n",
    "\n",
    "servo = servo_control.ServoControl(\n",
    "    0,\n",
    "    angle_min=0,\n",
    "    angle_max=180,\n",
    "    speed_max=200,\n",
    "    dir=1,\n",
    "    protocol=\"serial\"\n",
    ")\n",
    "\n",
    "loop = True"
   ]
  },
  {
   "cell_type": "code",
   "execution_count": null,
   "metadata": {},
   "outputs": [],
   "source": [
    "# Set desired position and speed, and run this block. Stop the block when position is reached.\n",
    "\n",
    "import time\n",
    "\n",
    "angle_desired = 180\n",
    "speed_desired = 90\n",
    "\n",
    "last = time.time()\n",
    "while True:\n",
    "    now = time.time()\n",
    "    servo.reach_angle(now - last, angle_desired, speed_desired)\n",
    "    last = now"
   ]
  }
 ],
 "metadata": {
  "kernelspec": {
   "display_name": "Python 3",
   "language": "python",
   "name": "python3"
  },
  "language_info": {
   "codemirror_mode": {
    "name": "ipython",
    "version": 3
   },
   "file_extension": ".py",
   "mimetype": "text/x-python",
   "name": "python",
   "nbconvert_exporter": "python",
   "pygments_lexer": "ipython3",
   "version": "3.10.12"
  }
 },
 "nbformat": 4,
 "nbformat_minor": 2
}
